{
 "cells": [
  {
   "cell_type": "markdown",
   "id": "2b7b7283",
   "metadata": {},
   "source": [
    "- **Heart Disease Prediction using Neural Networks**\n",
    "- Machine Learning,CH05 Deep Learning Final Assignment for peer review (Wang Xu finish at 2022.3.25)\n",
    "---"
   ]
  },
  {
   "cell_type": "markdown",
   "id": "7b6ef016",
   "metadata": {},
   "source": [
    "## Main Objective\n",
    "This project will focus on predicting heart disease using neural networks of deep learning.\\\n",
    "After a few steps of changing different parameters and data transformation I applied (learned from this chapter), model success (accuracy) increased. The important thing here is the need to do these steps.\\\n",
    "Also, Random forest algorithm will be used as a baseline performance with comparison."
   ]
  },
  {
   "cell_type": "markdown",
   "id": "f3c4f9b4",
   "metadata": {},
   "source": [
    "## Brief Description of Dataset\n",
    "\n",
    "Based on attributes such as blood pressure, cholestoral levels, heart rate, and other characteristic attributes, patients will be classified according to varying degrees of coronary artery disease. \\\n",
    "This project will utilize a dataset of **303 patients** and distributed by the *UCI Machine Learning Repository*.\\\n",
    "http://archive.ics.uci.edu/ml/datasets/Heart+Disease \\\n",
    "We will be using some common Python libraries, such as pandas, numpy, and matplotlib. Furthermore, for the machine learning side of this project, we will be using sklearn and keras. "
   ]
  },
  {
   "cell_type": "markdown",
   "id": "9096248c",
   "metadata": {},
   "source": [
    "**14 Attributes description:**\n",
    "\n",
    "1. age: age in years\n",
    "2. sex: sex (1 = male; 0 = female)\n",
    "3. cp: chest pain type\n",
    "- Value 1: typical angina\n",
    "- Value 2: atypical angina\n",
    "- Value 3: non-anginal pain\n",
    "- Value 4: asymptomatic\n",
    "4. trestbps: resting blood pressure (in mm Hg on admission to the hospital)\n",
    "5. chol: serum cholestoral in mg/dl\n",
    "6. fbs: fasting blood sugar > 120 mg/dl (1 = true; 0 = false)\n",
    "7. restecg: resting electrocardiographic results\n",
    "- Value 0: normal\n",
    "- Value 1: having ST-T wave abnormality (T wave inversions and/or ST elevation or depression of > 0.05 mV)\n",
    "- Value 2: showing probable or definite left ventricular hypertrophy by Estes' criteria\n",
    "8. thalach: maximum heart rate achieved\n",
    "9. exang: exercise induced angina (1 = yes; 0 = no)\n",
    "10. oldpeak: ST depression induced by exercise relative to rest\n",
    "11. slope: the slope of the peak exercise ST segment\n",
    "- Value 1: upsloping\n",
    "- Value 2: flat\n",
    "- Value 3: downsloping\n",
    "12. ca: number of major vessels (0-3) colored by flourosopy (for classification of vessels)\n",
    "13. thal: results of nuclear stress test (3 = normal; 6 = fixed defect; 7 = reversable defect)\n",
    "14. num: **target variable** representing diagnosis of heart disease (angiographic disease status) in any major vessel\n",
    "- Value 0: < 50% diameter narrowing\n",
    "- Value 1,2,3,4: > 50% diameter narrowing"
   ]
  },
  {
   "cell_type": "markdown",
   "id": "08f92368",
   "metadata": {},
   "source": [
    "## Import libraries and dataset"
   ]
  },
  {
   "cell_type": "code",
   "execution_count": 99,
   "id": "473e4bf0",
   "metadata": {},
   "outputs": [],
   "source": [
    "#import libraries\n",
    "import warnings\n",
    "warnings.filterwarnings(\"ignore\")\n",
    "import os\n",
    "import numpy as np\n",
    "import pandas as pd\n",
    "import keras \n",
    "import matplotlib.pyplot as plt\n",
    "%matplotlib inline\n",
    "import seaborn as sns\n",
    "from sklearn.model_selection import train_test_split\n",
    "from sklearn.preprocessing import StandardScaler\n",
    "from sklearn.metrics import confusion_matrix, precision_recall_curve, roc_auc_score, roc_curve, accuracy_score"
   ]
  },
  {
   "cell_type": "code",
   "execution_count": 100,
   "id": "a29da44a",
   "metadata": {},
   "outputs": [],
   "source": [
    "cleveland = pd.read_csv(\"data/processed_cleveland.csv\")"
   ]
  },
  {
   "cell_type": "code",
   "execution_count": 101,
   "id": "5dbbe3aa",
   "metadata": {},
   "outputs": [
    {
     "name": "stdout",
     "output_type": "stream",
     "text": [
      "<class 'pandas.core.frame.DataFrame'>\n",
      "RangeIndex: 303 entries, 0 to 302\n",
      "Data columns (total 14 columns):\n",
      " #   Column    Non-Null Count  Dtype  \n",
      "---  ------    --------------  -----  \n",
      " 0   age       303 non-null    int64  \n",
      " 1   sex       303 non-null    int64  \n",
      " 2   cp        303 non-null    int64  \n",
      " 3   trestbps  303 non-null    int64  \n",
      " 4   chol      303 non-null    int64  \n",
      " 5   fbs       303 non-null    int64  \n",
      " 6   restecg   303 non-null    int64  \n",
      " 7   thalach   303 non-null    int64  \n",
      " 8   exang     303 non-null    int64  \n",
      " 9   oldpeak   303 non-null    float64\n",
      " 10  slope     303 non-null    int64  \n",
      " 11  ca        303 non-null    object \n",
      " 12  thal      303 non-null    object \n",
      " 13  num       303 non-null    int64  \n",
      "dtypes: float64(1), int64(11), object(2)\n",
      "memory usage: 33.3+ KB\n"
     ]
    }
   ],
   "source": [
    "cleveland.info()"
   ]
  },
  {
   "cell_type": "markdown",
   "id": "f808d24a",
   "metadata": {},
   "source": [
    "## Data wrangling"
   ]
  },
  {
   "cell_type": "markdown",
   "id": "1ecb970f",
   "metadata": {},
   "source": [
    "\n",
    "### Summary - Actions taken for cleaning:\n",
    "- check missing value and invalid value\n",
    "- dtypes changed to int/float \n",
    "- find a \"?\" in loc166 & 3 NaN values, replace it with '0'\n",
    "- add target column which is binary, num stays target category\n"
   ]
  },
  {
   "cell_type": "code",
   "execution_count": 102,
   "id": "75b71bd7",
   "metadata": {},
   "outputs": [],
   "source": [
    "data = cleveland.copy()\n",
    "#data = data.apply(pd.to_numeric)\n",
    "#data.dtypes"
   ]
  },
  {
   "cell_type": "code",
   "execution_count": 103,
   "id": "88fcacdf",
   "metadata": {},
   "outputs": [],
   "source": [
    "data = data[~data.isin([\"?\"])]"
   ]
  },
  {
   "cell_type": "code",
   "execution_count": 104,
   "id": "9c5f799b",
   "metadata": {},
   "outputs": [],
   "source": [
    "data = data.fillna(0)"
   ]
  },
  {
   "cell_type": "code",
   "execution_count": 105,
   "id": "a4b35c6f",
   "metadata": {
    "scrolled": false
   },
   "outputs": [
    {
     "data": {
      "text/plain": [
       "age           int64\n",
       "sex           int64\n",
       "cp            int64\n",
       "trestbps      int64\n",
       "chol          int64\n",
       "fbs           int64\n",
       "restecg       int64\n",
       "thalach       int64\n",
       "exang         int64\n",
       "oldpeak     float64\n",
       "slope         int64\n",
       "ca            int64\n",
       "thal          int64\n",
       "num           int64\n",
       "dtype: object"
      ]
     },
     "execution_count": 105,
     "metadata": {},
     "output_type": "execute_result"
    }
   ],
   "source": [
    "data = data.apply(pd.to_numeric)\n",
    "data.dtypes"
   ]
  },
  {
   "cell_type": "code",
   "execution_count": 106,
   "id": "c29d558a",
   "metadata": {},
   "outputs": [],
   "source": [
    "data['target']=data['num'].replace({0:0,2:1,3:1,4:1})"
   ]
  },
  {
   "cell_type": "code",
   "execution_count": 107,
   "id": "0858ec31",
   "metadata": {
    "scrolled": true
   },
   "outputs": [
    {
     "data": {
      "text/html": [
       "<div>\n",
       "<style scoped>\n",
       "    .dataframe tbody tr th:only-of-type {\n",
       "        vertical-align: middle;\n",
       "    }\n",
       "\n",
       "    .dataframe tbody tr th {\n",
       "        vertical-align: top;\n",
       "    }\n",
       "\n",
       "    .dataframe thead th {\n",
       "        text-align: right;\n",
       "    }\n",
       "</style>\n",
       "<table border=\"1\" class=\"dataframe\">\n",
       "  <thead>\n",
       "    <tr style=\"text-align: right;\">\n",
       "      <th></th>\n",
       "      <th>age</th>\n",
       "      <th>sex</th>\n",
       "      <th>cp</th>\n",
       "      <th>trestbps</th>\n",
       "      <th>chol</th>\n",
       "      <th>fbs</th>\n",
       "      <th>restecg</th>\n",
       "      <th>thalach</th>\n",
       "      <th>exang</th>\n",
       "      <th>oldpeak</th>\n",
       "      <th>slope</th>\n",
       "      <th>ca</th>\n",
       "      <th>thal</th>\n",
       "      <th>num</th>\n",
       "      <th>target</th>\n",
       "    </tr>\n",
       "  </thead>\n",
       "  <tbody>\n",
       "    <tr>\n",
       "      <th>198</th>\n",
       "      <td>50</td>\n",
       "      <td>0</td>\n",
       "      <td>2</td>\n",
       "      <td>120</td>\n",
       "      <td>244</td>\n",
       "      <td>0</td>\n",
       "      <td>0</td>\n",
       "      <td>162</td>\n",
       "      <td>0</td>\n",
       "      <td>1.1</td>\n",
       "      <td>1</td>\n",
       "      <td>0</td>\n",
       "      <td>3</td>\n",
       "      <td>0</td>\n",
       "      <td>0</td>\n",
       "    </tr>\n",
       "    <tr>\n",
       "      <th>182</th>\n",
       "      <td>42</td>\n",
       "      <td>1</td>\n",
       "      <td>1</td>\n",
       "      <td>148</td>\n",
       "      <td>244</td>\n",
       "      <td>0</td>\n",
       "      <td>2</td>\n",
       "      <td>178</td>\n",
       "      <td>0</td>\n",
       "      <td>0.8</td>\n",
       "      <td>1</td>\n",
       "      <td>2</td>\n",
       "      <td>3</td>\n",
       "      <td>0</td>\n",
       "      <td>0</td>\n",
       "    </tr>\n",
       "    <tr>\n",
       "      <th>73</th>\n",
       "      <td>65</td>\n",
       "      <td>1</td>\n",
       "      <td>4</td>\n",
       "      <td>110</td>\n",
       "      <td>248</td>\n",
       "      <td>0</td>\n",
       "      <td>2</td>\n",
       "      <td>158</td>\n",
       "      <td>0</td>\n",
       "      <td>0.6</td>\n",
       "      <td>1</td>\n",
       "      <td>2</td>\n",
       "      <td>6</td>\n",
       "      <td>1</td>\n",
       "      <td>1</td>\n",
       "    </tr>\n",
       "    <tr>\n",
       "      <th>232</th>\n",
       "      <td>49</td>\n",
       "      <td>1</td>\n",
       "      <td>3</td>\n",
       "      <td>118</td>\n",
       "      <td>149</td>\n",
       "      <td>0</td>\n",
       "      <td>2</td>\n",
       "      <td>126</td>\n",
       "      <td>0</td>\n",
       "      <td>0.8</td>\n",
       "      <td>1</td>\n",
       "      <td>3</td>\n",
       "      <td>3</td>\n",
       "      <td>1</td>\n",
       "      <td>1</td>\n",
       "    </tr>\n",
       "    <tr>\n",
       "      <th>297</th>\n",
       "      <td>57</td>\n",
       "      <td>0</td>\n",
       "      <td>4</td>\n",
       "      <td>140</td>\n",
       "      <td>241</td>\n",
       "      <td>0</td>\n",
       "      <td>0</td>\n",
       "      <td>123</td>\n",
       "      <td>1</td>\n",
       "      <td>0.2</td>\n",
       "      <td>2</td>\n",
       "      <td>0</td>\n",
       "      <td>7</td>\n",
       "      <td>1</td>\n",
       "      <td>1</td>\n",
       "    </tr>\n",
       "  </tbody>\n",
       "</table>\n",
       "</div>"
      ],
      "text/plain": [
       "     age  sex  cp  trestbps  chol  fbs  restecg  thalach  exang  oldpeak  \\\n",
       "198   50    0   2       120   244    0        0      162      0      1.1   \n",
       "182   42    1   1       148   244    0        2      178      0      0.8   \n",
       "73    65    1   4       110   248    0        2      158      0      0.6   \n",
       "232   49    1   3       118   149    0        2      126      0      0.8   \n",
       "297   57    0   4       140   241    0        0      123      1      0.2   \n",
       "\n",
       "     slope  ca  thal  num  target  \n",
       "198      1   0     3    0       0  \n",
       "182      1   2     3    0       0  \n",
       "73       1   2     6    1       1  \n",
       "232      1   3     3    1       1  \n",
       "297      2   0     7    1       1  "
      ]
     },
     "execution_count": 107,
     "metadata": {},
     "output_type": "execute_result"
    }
   ],
   "source": [
    "data.sample(5)"
   ]
  },
  {
   "cell_type": "code",
   "execution_count": 108,
   "id": "481f9e78",
   "metadata": {},
   "outputs": [
    {
     "data": {
      "text/plain": [
       "0    164\n",
       "1    139\n",
       "Name: target, dtype: int64"
      ]
     },
     "execution_count": 108,
     "metadata": {},
     "output_type": "execute_result"
    }
   ],
   "source": [
    "data.target.value_counts() #binary target"
   ]
  },
  {
   "cell_type": "code",
   "execution_count": 109,
   "id": "3de2a4f2",
   "metadata": {},
   "outputs": [
    {
     "data": {
      "text/plain": [
       "0    164\n",
       "1     55\n",
       "2     36\n",
       "3     35\n",
       "4     13\n",
       "Name: num, dtype: int64"
      ]
     },
     "execution_count": 109,
     "metadata": {},
     "output_type": "execute_result"
    }
   ],
   "source": [
    "data.num.value_counts() #categorical target"
   ]
  },
  {
   "cell_type": "markdown",
   "id": "8486c4a2",
   "metadata": {},
   "source": [
    "## EDA"
   ]
  },
  {
   "cell_type": "markdown",
   "id": "81459c5b",
   "metadata": {},
   "source": [
    "### Features distribution"
   ]
  },
  {
   "cell_type": "code",
   "execution_count": 12,
   "id": "fbae792f",
   "metadata": {},
   "outputs": [
    {
     "data": {
      "image/png": "[encoded data removed]",
      "text/plain": [
       "<Figure size 864x864 with 16 Axes>"
      ]
     },
     "metadata": {
      "needs_background": "light"
     },
     "output_type": "display_data"
    }
   ],
   "source": [
    "data.hist(figsize=(12,12))\n",
    "plt.show()"
   ]
  },
  {
   "cell_type": "markdown",
   "id": "32a7dbab",
   "metadata": {},
   "source": [
    "### Features correlations"
   ]
  },
  {
   "cell_type": "code",
   "execution_count": 158,
   "id": "29289e45",
   "metadata": {},
   "outputs": [
    {
     "data": {
      "image/png": "[encoded data removed]",
      "text/plain": [
       "<Figure size 864x864 with 2 Axes>"
      ]
     },
     "metadata": {
      "needs_background": "light"
     },
     "output_type": "display_data"
    }
   ],
   "source": [
    "plt.figure(figsize=(12,12))\n",
    "sns.heatmap(data.corr(),annot=True,fmt='.2f')\n",
    "plt.show()"
   ]
  },
  {
   "cell_type": "markdown",
   "id": "e405c23f",
   "metadata": {},
   "source": [
    "### Distribution between target and age"
   ]
  },
  {
   "cell_type": "code",
   "execution_count": 14,
   "id": "1b8d3f97",
   "metadata": {},
   "outputs": [
    {
     "data": {
      "image/png": "[encoded data removed]",
      "text/plain": [
       "<Figure size 1440x432 with 1 Axes>"
      ]
     },
     "metadata": {
      "needs_background": "light"
     },
     "output_type": "display_data"
    }
   ],
   "source": [
    "pd.crosstab(data.age,data.target).plot(kind=\"bar\",figsize=(20,6))\n",
    "plt.title('Heart Disease Frequency for Ages')\n",
    "plt.xlabel('Age')\n",
    "plt.ylabel('Frequency')\n",
    "plt.show()"
   ]
  },
  {
   "cell_type": "markdown",
   "id": "47d2f3a8",
   "metadata": {},
   "source": [
    "## Split train and test set"
   ]
  },
  {
   "cell_type": "code",
   "execution_count": 117,
   "id": "08e24059",
   "metadata": {},
   "outputs": [],
   "source": [
    "X = data.iloc[:,:-2].values\n",
    "Y_binary =data.target.values"
   ]
  },
  {
   "cell_type": "code",
   "execution_count": 118,
   "id": "2d637d64",
   "metadata": {},
   "outputs": [],
   "source": [
    "X_train,X_test, y_train, y_test = train_test_split(X,\n",
    "                                                   Y_binary,stratify=Y_binary,\n",
    "                                                   random_state=111,\n",
    "                                                   test_size=0.2)"
   ]
  },
  {
   "cell_type": "markdown",
   "id": "268b2210",
   "metadata": {},
   "source": [
    "## Baseline performance - using Random Forest : rf_model"
   ]
  },
  {
   "cell_type": "code",
   "execution_count": 119,
   "id": "b4374492",
   "metadata": {},
   "outputs": [],
   "source": [
    "from sklearn.ensemble import RandomForestClassifier"
   ]
  },
  {
   "cell_type": "code",
   "execution_count": 120,
   "id": "769fe49f",
   "metadata": {},
   "outputs": [
    {
     "data": {
      "text/plain": [
       "RandomForestClassifier(n_estimators=200)"
      ]
     },
     "execution_count": 120,
     "metadata": {},
     "output_type": "execute_result"
    }
   ],
   "source": [
    "rf_model = RandomForestClassifier(n_estimators=200)\n",
    "rf_model.fit(X_train,y_train)"
   ]
  },
  {
   "cell_type": "code",
   "execution_count": 121,
   "id": "e7e30903",
   "metadata": {},
   "outputs": [
    {
     "name": "stdout",
     "output_type": "stream",
     "text": [
      "accuracy is 0.852\n",
      "roc-auc is 0.927\n"
     ]
    }
   ],
   "source": [
    "y_pred_class_rf = rf_model.predict(X_test)\n",
    "y_pred_prob_rf = rf_model.predict_proba(X_test)\n",
    "\n",
    "\n",
    "print('accuracy is {:.3f}'.format(accuracy_score(y_test,y_pred_class_rf)))\n",
    "print('roc-auc is {:.3f}'.format(roc_auc_score(y_test,y_pred_prob_rf[:,1])))"
   ]
  },
  {
   "cell_type": "code",
   "execution_count": 122,
   "id": "b46c8477",
   "metadata": {},
   "outputs": [
    {
     "data": {
      "image/png": "[encoded data removed]",
      "text/plain": [
       "<Figure size 360x360 with 1 Axes>"
      ]
     },
     "metadata": {
      "needs_background": "light"
     },
     "output_type": "display_data"
    }
   ],
   "source": [
    "def plot_roc(y_test, y_pred, model_name):\n",
    "    fpr, tpr, thr = roc_curve(y_test, y_pred)\n",
    "    fig, ax = plt.subplots(figsize=(5,5))\n",
    "    ax.plot(fpr, tpr, 'k-')\n",
    "    ax.plot([0, 1], [0, 1], 'k--', linewidth=.5)  # roc curve for random model\n",
    "    ax.grid(True)\n",
    "    ax.set(title='ROC Curve for {} on Heart disease'.format(model_name),\n",
    "           xlim=[-0.01, 1.01], ylim=[-0.01, 1.01])\n",
    "plot_roc(y_test, y_pred_prob_rf[:, 1], 'Random Forest')"
   ]
  },
  {
   "cell_type": "markdown",
   "id": "998f7730",
   "metadata": {},
   "source": [
    "## Building Neural Networks : model_1 (categorical)"
   ]
  },
  {
   "cell_type": "markdown",
   "id": "08e2fd11",
   "metadata": {},
   "source": [
    "### StandardScale"
   ]
  },
  {
   "cell_type": "code",
   "execution_count": 123,
   "id": "6e58a738",
   "metadata": {},
   "outputs": [],
   "source": [
    "normalizer = StandardScaler()\n",
    "X_train_norm = normalizer.fit_transform(X_train)\n",
    "X_test_norm = normalizer.transform(X_test)"
   ]
  },
  {
   "cell_type": "code",
   "execution_count": 124,
   "id": "e383c4b6",
   "metadata": {},
   "outputs": [
    {
     "data": {
      "text/plain": [
       "array([ 1.50087888,  0.67663234,  0.89319609,  0.71769354, -0.98089174,\n",
       "        2.47338777, -1.00210716, -0.39905973, -0.68313005,  2.01841585,\n",
       "        0.66424335,  1.429883  ,  1.22133514])"
      ]
     },
     "execution_count": 124,
     "metadata": {},
     "output_type": "execute_result"
    }
   ],
   "source": [
    "X_train_norm[1]"
   ]
  },
  {
   "cell_type": "code",
   "execution_count": 125,
   "id": "ba2dee14",
   "metadata": {},
   "outputs": [
    {
     "data": {
      "text/plain": [
       "1"
      ]
     },
     "execution_count": 125,
     "metadata": {},
     "output_type": "execute_result"
    }
   ],
   "source": [
    "y_train[1]"
   ]
  },
  {
   "cell_type": "code",
   "execution_count": 126,
   "id": "174e2ffe",
   "metadata": {
    "scrolled": false
   },
   "outputs": [
    {
     "name": "stdout",
     "output_type": "stream",
     "text": [
      "(242, 2)\n",
      "[[0. 1.]\n",
      " [0. 1.]\n",
      " [1. 0.]\n",
      " [1. 0.]\n",
      " [1. 0.]\n",
      " [0. 1.]\n",
      " [1. 0.]\n",
      " [1. 0.]\n",
      " [1. 0.]\n",
      " [0. 1.]]\n"
     ]
    }
   ],
   "source": [
    "# convert the (target)data to categorical labels\n",
    "from keras.utils.np_utils import to_categorical\n",
    "\n",
    "y_train_cat = to_categorical(y_train, num_classes=None)\n",
    "y_test_cat = to_categorical(y_test, num_classes=None)\n",
    "print (y_train_cat.shape)\n",
    "print (y_train_cat[:10])"
   ]
  },
  {
   "cell_type": "markdown",
   "id": "71ae3236",
   "metadata": {},
   "source": [
    "### layers building\n",
    "- using Dropout\n",
    "- l2 regularizers (lr=0.001)\n",
    "- activation ='softmax'\n",
    "- loss function: categorical_crossentropy\n",
    "- optimizer: rmsprop"
   ]
  },
  {
   "cell_type": "code",
   "execution_count": 127,
   "id": "bafe46cf",
   "metadata": {},
   "outputs": [],
   "source": [
    "from tensorflow.keras.models  import Sequential\n",
    "from tensorflow.keras.layers import Input, Dense, Flatten, Dropout, BatchNormalization\n",
    "from tensorflow.keras.optimizers import Adam, SGD, RMSprop\n",
    "from keras import regularizers"
   ]
  },
  {
   "cell_type": "code",
   "execution_count": 128,
   "id": "8b976bf2",
   "metadata": {},
   "outputs": [],
   "source": [
    "model_1 = Sequential()\n",
    "model_1.add(Dense(16, input_shape=(13,),\n",
    "                  kernel_initializer='normal', \n",
    "                  kernel_regularizer=regularizers.l2(0.001), activation='relu'))\n",
    "model_1.add(Dropout(0.25))\n",
    "model_1.add(Dense(8, kernel_initializer='normal', \n",
    "                  kernel_regularizer=regularizers.l2(0.001), activation='relu'))\n",
    "model_1.add(Dropout(0.25))\n",
    "model_1.add(Dense(2,activation='softmax'))"
   ]
  },
  {
   "cell_type": "code",
   "execution_count": 129,
   "id": "690d39d4",
   "metadata": {
    "scrolled": true
   },
   "outputs": [
    {
     "name": "stdout",
     "output_type": "stream",
     "text": [
      "Model: \"sequential_10\"\n",
      "_________________________________________________________________\n",
      " Layer (type)                Output Shape              Param #   \n",
      "=================================================================\n",
      " dense_24 (Dense)            (None, 16)                224       \n",
      "                                                                 \n",
      " dropout_16 (Dropout)        (None, 16)                0         \n",
      "                                                                 \n",
      " dense_25 (Dense)            (None, 8)                 136       \n",
      "                                                                 \n",
      " dropout_17 (Dropout)        (None, 8)                 0         \n",
      "                                                                 \n",
      " dense_26 (Dense)            (None, 2)                 18        \n",
      "                                                                 \n",
      "=================================================================\n",
      "Total params: 378\n",
      "Trainable params: 378\n",
      "Non-trainable params: 0\n",
      "_________________________________________________________________\n"
     ]
    }
   ],
   "source": [
    "model_1.compile(loss='categorical_crossentropy',optimizer='rmsprop',metrics=['accuracy'])\n",
    "model_1.summary()"
   ]
  },
  {
   "cell_type": "code",
   "execution_count": 130,
   "id": "75a0f49b",
   "metadata": {},
   "outputs": [
    {
     "name": "stdout",
     "output_type": "stream",
     "text": [
      "Epoch 1/50\n",
      "25/25 [==============================] - 1s 11ms/step - loss: 0.6724 - accuracy: 0.7107 - val_loss: 0.6373 - val_accuracy: 0.8689\n",
      "Epoch 2/50\n",
      "25/25 [==============================] - 0s 5ms/step - loss: 0.6348 - accuracy: 0.7645 - val_loss: 0.5776 - val_accuracy: 0.8689\n",
      "Epoch 3/50\n",
      "25/25 [==============================] - 0s 5ms/step - loss: 0.5809 - accuracy: 0.8223 - val_loss: 0.5211 - val_accuracy: 0.8852\n",
      "Epoch 4/50\n",
      "25/25 [==============================] - 0s 5ms/step - loss: 0.5443 - accuracy: 0.8182 - val_loss: 0.4667 - val_accuracy: 0.9016\n",
      "Epoch 5/50\n",
      "25/25 [==============================] - 0s 4ms/step - loss: 0.4862 - accuracy: 0.8388 - val_loss: 0.4174 - val_accuracy: 0.9016\n",
      "Epoch 6/50\n",
      "25/25 [==============================] - 0s 3ms/step - loss: 0.4659 - accuracy: 0.8388 - val_loss: 0.3848 - val_accuracy: 0.9016\n",
      "Epoch 7/50\n",
      "25/25 [==============================] - 0s 3ms/step - loss: 0.4353 - accuracy: 0.8430 - val_loss: 0.3550 - val_accuracy: 0.9016\n",
      "Epoch 8/50\n",
      "25/25 [==============================] - 0s 3ms/step - loss: 0.4190 - accuracy: 0.8512 - val_loss: 0.3388 - val_accuracy: 0.9180\n",
      "Epoch 9/50\n",
      "25/25 [==============================] - 0s 4ms/step - loss: 0.4325 - accuracy: 0.8471 - val_loss: 0.3275 - val_accuracy: 0.9180\n",
      "Epoch 10/50\n",
      "25/25 [==============================] - 0s 4ms/step - loss: 0.4130 - accuracy: 0.8388 - val_loss: 0.3227 - val_accuracy: 0.8852\n",
      "Epoch 11/50\n",
      "25/25 [==============================] - 0s 3ms/step - loss: 0.3962 - accuracy: 0.8471 - val_loss: 0.3167 - val_accuracy: 0.8852\n",
      "Epoch 12/50\n",
      "25/25 [==============================] - 0s 4ms/step - loss: 0.3939 - accuracy: 0.8471 - val_loss: 0.3128 - val_accuracy: 0.8852\n",
      "Epoch 13/50\n",
      "25/25 [==============================] - 0s 3ms/step - loss: 0.3741 - accuracy: 0.8388 - val_loss: 0.3052 - val_accuracy: 0.8852\n",
      "Epoch 14/50\n",
      "25/25 [==============================] - 0s 4ms/step - loss: 0.3968 - accuracy: 0.8430 - val_loss: 0.3047 - val_accuracy: 0.8852\n",
      "Epoch 15/50\n",
      "25/25 [==============================] - 0s 10ms/step - loss: 0.3901 - accuracy: 0.8388 - val_loss: 0.3012 - val_accuracy: 0.8852\n",
      "Epoch 16/50\n",
      "25/25 [==============================] - 0s 5ms/step - loss: 0.4034 - accuracy: 0.8471 - val_loss: 0.3009 - val_accuracy: 0.8852\n",
      "Epoch 17/50\n",
      "25/25 [==============================] - 0s 5ms/step - loss: 0.3957 - accuracy: 0.8512 - val_loss: 0.2976 - val_accuracy: 0.8852\n",
      "Epoch 18/50\n",
      "25/25 [==============================] - 0s 7ms/step - loss: 0.3826 - accuracy: 0.8595 - val_loss: 0.2987 - val_accuracy: 0.8852\n",
      "Epoch 19/50\n",
      "25/25 [==============================] - 0s 8ms/step - loss: 0.3909 - accuracy: 0.8678 - val_loss: 0.2969 - val_accuracy: 0.9016\n",
      "Epoch 20/50\n",
      "25/25 [==============================] - 0s 4ms/step - loss: 0.3886 - accuracy: 0.8554 - val_loss: 0.2954 - val_accuracy: 0.9016\n",
      "Epoch 21/50\n",
      "25/25 [==============================] - 0s 4ms/step - loss: 0.4035 - accuracy: 0.8430 - val_loss: 0.2962 - val_accuracy: 0.9016\n",
      "Epoch 22/50\n",
      "25/25 [==============================] - 0s 8ms/step - loss: 0.4080 - accuracy: 0.8306 - val_loss: 0.2986 - val_accuracy: 0.9016\n",
      "Epoch 23/50\n",
      "25/25 [==============================] - 0s 5ms/step - loss: 0.3708 - accuracy: 0.8471 - val_loss: 0.2981 - val_accuracy: 0.9016\n",
      "Epoch 24/50\n",
      "25/25 [==============================] - 0s 7ms/step - loss: 0.3785 - accuracy: 0.8430 - val_loss: 0.2990 - val_accuracy: 0.9016\n",
      "Epoch 25/50\n",
      "25/25 [==============================] - 0s 4ms/step - loss: 0.3745 - accuracy: 0.8512 - val_loss: 0.2929 - val_accuracy: 0.9016\n",
      "Epoch 26/50\n",
      "25/25 [==============================] - 0s 3ms/step - loss: 0.4078 - accuracy: 0.8595 - val_loss: 0.2989 - val_accuracy: 0.9016\n",
      "Epoch 27/50\n",
      "25/25 [==============================] - 0s 4ms/step - loss: 0.3458 - accuracy: 0.8636 - val_loss: 0.2948 - val_accuracy: 0.9016\n",
      "Epoch 28/50\n",
      "25/25 [==============================] - 0s 4ms/step - loss: 0.3861 - accuracy: 0.8636 - val_loss: 0.2986 - val_accuracy: 0.9016\n",
      "Epoch 29/50\n",
      "25/25 [==============================] - 0s 4ms/step - loss: 0.3670 - accuracy: 0.8512 - val_loss: 0.3033 - val_accuracy: 0.9016\n",
      "Epoch 30/50\n",
      "25/25 [==============================] - 0s 7ms/step - loss: 0.4014 - accuracy: 0.8595 - val_loss: 0.3104 - val_accuracy: 0.9016\n",
      "Epoch 31/50\n",
      "25/25 [==============================] - 0s 5ms/step - loss: 0.3706 - accuracy: 0.8760 - val_loss: 0.3087 - val_accuracy: 0.8852\n",
      "Epoch 32/50\n",
      "25/25 [==============================] - 0s 8ms/step - loss: 0.3754 - accuracy: 0.8512 - val_loss: 0.3061 - val_accuracy: 0.8852\n",
      "Epoch 33/50\n",
      "25/25 [==============================] - 0s 7ms/step - loss: 0.3645 - accuracy: 0.8678 - val_loss: 0.3060 - val_accuracy: 0.9016\n",
      "Epoch 34/50\n",
      "25/25 [==============================] - 0s 4ms/step - loss: 0.3507 - accuracy: 0.8595 - val_loss: 0.3060 - val_accuracy: 0.8852\n",
      "Epoch 35/50\n",
      "25/25 [==============================] - 0s 4ms/step - loss: 0.3951 - accuracy: 0.8719 - val_loss: 0.3109 - val_accuracy: 0.8852\n",
      "Epoch 36/50\n",
      "25/25 [==============================] - 0s 6ms/step - loss: 0.3721 - accuracy: 0.8678 - val_loss: 0.3131 - val_accuracy: 0.8852\n",
      "Epoch 37/50\n",
      "25/25 [==============================] - 0s 5ms/step - loss: 0.3725 - accuracy: 0.8760 - val_loss: 0.3133 - val_accuracy: 0.8852\n",
      "Epoch 38/50\n",
      "25/25 [==============================] - 0s 6ms/step - loss: 0.3739 - accuracy: 0.8636 - val_loss: 0.3147 - val_accuracy: 0.8852\n",
      "Epoch 39/50\n",
      "25/25 [==============================] - 0s 3ms/step - loss: 0.3797 - accuracy: 0.8430 - val_loss: 0.3118 - val_accuracy: 0.8852\n",
      "Epoch 40/50\n",
      "25/25 [==============================] - 0s 3ms/step - loss: 0.3420 - accuracy: 0.8802 - val_loss: 0.3157 - val_accuracy: 0.8852\n",
      "Epoch 41/50\n",
      "25/25 [==============================] - 0s 3ms/step - loss: 0.3778 - accuracy: 0.8636 - val_loss: 0.3162 - val_accuracy: 0.8852\n",
      "Epoch 42/50\n",
      "25/25 [==============================] - 0s 5ms/step - loss: 0.3402 - accuracy: 0.8884 - val_loss: 0.3177 - val_accuracy: 0.8852\n",
      "Epoch 43/50\n",
      "25/25 [==============================] - 0s 7ms/step - loss: 0.3518 - accuracy: 0.8760 - val_loss: 0.3218 - val_accuracy: 0.8852\n",
      "Epoch 44/50\n",
      "25/25 [==============================] - 0s 4ms/step - loss: 0.3593 - accuracy: 0.8595 - val_loss: 0.3189 - val_accuracy: 0.8852\n",
      "Epoch 45/50\n",
      "25/25 [==============================] - 0s 3ms/step - loss: 0.3499 - accuracy: 0.8678 - val_loss: 0.3208 - val_accuracy: 0.8852\n",
      "Epoch 46/50\n",
      "25/25 [==============================] - 0s 3ms/step - loss: 0.3568 - accuracy: 0.8843 - val_loss: 0.3197 - val_accuracy: 0.8852\n",
      "Epoch 47/50\n",
      "25/25 [==============================] - 0s 7ms/step - loss: 0.3577 - accuracy: 0.8719 - val_loss: 0.3214 - val_accuracy: 0.8852\n",
      "Epoch 48/50\n",
      "25/25 [==============================] - 0s 6ms/step - loss: 0.3421 - accuracy: 0.8843 - val_loss: 0.3237 - val_accuracy: 0.8852\n",
      "Epoch 49/50\n",
      "25/25 [==============================] - 0s 6ms/step - loss: 0.3596 - accuracy: 0.8678 - val_loss: 0.3234 - val_accuracy: 0.8852\n",
      "Epoch 50/50\n",
      "25/25 [==============================] - 0s 5ms/step - loss: 0.3709 - accuracy: 0.8760 - val_loss: 0.3245 - val_accuracy: 0.8852\n"
     ]
    }
   ],
   "source": [
    "history_1 = model_1.fit(X_train_norm,y_train_cat,\n",
    "                        validation_data=(X_test_norm,y_test_cat),epochs=50,batch_size=10)"
   ]
  },
  {
   "cell_type": "code",
   "execution_count": 131,
   "id": "1bd88114",
   "metadata": {
    "scrolled": true
   },
   "outputs": [
    {
     "data": {
      "image/png": "[encoded data removed]",
      "text/plain": [
       "<Figure size 432x288 with 1 Axes>"
      ]
     },
     "metadata": {
      "needs_background": "light"
     },
     "output_type": "display_data"
    }
   ],
   "source": [
    "# Model accuracy\n",
    "plt.plot(history_1.history['accuracy'])\n",
    "plt.plot(history_1.history['val_accuracy'])\n",
    "plt.title('Model Accuracy')\n",
    "plt.ylabel('accuracy')\n",
    "plt.xlabel('epoch')\n",
    "plt.legend(['train', 'test'])\n",
    "plt.show()"
   ]
  },
  {
   "cell_type": "code",
   "execution_count": 132,
   "id": "d93edb99",
   "metadata": {
    "scrolled": false
   },
   "outputs": [
    {
     "data": {
      "image/png": "[encoded data removed]",
      "text/plain": [
       "<Figure size 432x288 with 1 Axes>"
      ]
     },
     "metadata": {
      "needs_background": "light"
     },
     "output_type": "display_data"
    }
   ],
   "source": [
    "# loss perfomance\n",
    "plt.plot(history_1.history['loss'])\n",
    "plt.plot(history_1.history['val_loss'])\n",
    "plt.title('Loss performance')\n",
    "plt.ylabel('loss')\n",
    "plt.xlabel('epoch')\n",
    "plt.legend(['train', 'test'])\n",
    "plt.show()"
   ]
  },
  {
   "cell_type": "markdown",
   "id": "d88a873a",
   "metadata": {},
   "source": [
    "**val_accuracy in last epoch is 0.90, which is pretty high. Let's try more parameters whether has space to improve.**"
   ]
  },
  {
   "cell_type": "markdown",
   "id": "b5a10f87",
   "metadata": {},
   "source": [
    "## Try different parameters : model_2\n",
    "- l2 regularizers (lr=0.001)\n",
    "- activation:sigmoid\n",
    "- loss function: binary_crossentropy\n",
    "- optimizer: Adam(lr=0.001)"
   ]
  },
  {
   "cell_type": "code",
   "execution_count": 133,
   "id": "e040527c",
   "metadata": {},
   "outputs": [],
   "source": [
    "model_2=Sequential()\n",
    "model_2.add(Dense(16,input_shape=(13,),kernel_initializer='normal', \n",
    "                  kernel_regularizer=regularizers.l2(0.001), activation='relu'))\n",
    "model_2.add(Dropout(0.25))\n",
    "model_2.add(Dense(8,kernel_initializer='normal', \n",
    "                  kernel_regularizer=regularizers.l2(0.001), activation='relu'))\n",
    "model_2.add(Dropout(0.25))\n",
    "model_2.add(Dense(1,activation='sigmoid'))"
   ]
  },
  {
   "cell_type": "code",
   "execution_count": 134,
   "id": "1d8b1723",
   "metadata": {},
   "outputs": [],
   "source": [
    "model_2.compile(Adam(lr = .001),loss='binary_crossentropy',metrics=['accuracy'])"
   ]
  },
  {
   "cell_type": "code",
   "execution_count": 135,
   "id": "7b41903d",
   "metadata": {},
   "outputs": [
    {
     "name": "stdout",
     "output_type": "stream",
     "text": [
      "Model: \"sequential_11\"\n",
      "_________________________________________________________________\n",
      " Layer (type)                Output Shape              Param #   \n",
      "=================================================================\n",
      " dense_27 (Dense)            (None, 16)                224       \n",
      "                                                                 \n",
      " dropout_18 (Dropout)        (None, 16)                0         \n",
      "                                                                 \n",
      " dense_28 (Dense)            (None, 8)                 136       \n",
      "                                                                 \n",
      " dropout_19 (Dropout)        (None, 8)                 0         \n",
      "                                                                 \n",
      " dense_29 (Dense)            (None, 1)                 9         \n",
      "                                                                 \n",
      "=================================================================\n",
      "Total params: 369\n",
      "Trainable params: 369\n",
      "Non-trainable params: 0\n",
      "_________________________________________________________________\n"
     ]
    }
   ],
   "source": [
    "model_2.summary()"
   ]
  },
  {
   "cell_type": "code",
   "execution_count": 136,
   "id": "0ea3373a",
   "metadata": {
    "scrolled": true
   },
   "outputs": [
    {
     "name": "stdout",
     "output_type": "stream",
     "text": [
      "Epoch 1/50\n",
      "25/25 [==============================] - 1s 7ms/step - loss: 0.6885 - accuracy: 0.6116 - val_loss: 0.6788 - val_accuracy: 0.7541\n",
      "Epoch 2/50\n",
      "25/25 [==============================] - 0s 3ms/step - loss: 0.6724 - accuracy: 0.7438 - val_loss: 0.6488 - val_accuracy: 0.7869\n",
      "Epoch 3/50\n",
      "25/25 [==============================] - 0s 6ms/step - loss: 0.6444 - accuracy: 0.7727 - val_loss: 0.5921 - val_accuracy: 0.8361\n",
      "Epoch 4/50\n",
      "25/25 [==============================] - 0s 4ms/step - loss: 0.5985 - accuracy: 0.7810 - val_loss: 0.5346 - val_accuracy: 0.8197\n",
      "Epoch 5/50\n",
      "25/25 [==============================] - 0s 4ms/step - loss: 0.5712 - accuracy: 0.8140 - val_loss: 0.4933 - val_accuracy: 0.8525\n",
      "Epoch 6/50\n",
      "25/25 [==============================] - 0s 4ms/step - loss: 0.5326 - accuracy: 0.8140 - val_loss: 0.4465 - val_accuracy: 0.8852\n",
      "Epoch 7/50\n",
      "25/25 [==============================] - 0s 5ms/step - loss: 0.4953 - accuracy: 0.8430 - val_loss: 0.4145 - val_accuracy: 0.8852\n",
      "Epoch 8/50\n",
      "25/25 [==============================] - 0s 9ms/step - loss: 0.4711 - accuracy: 0.8512 - val_loss: 0.3868 - val_accuracy: 0.9016\n",
      "Epoch 9/50\n",
      "25/25 [==============================] - 0s 3ms/step - loss: 0.4562 - accuracy: 0.8554 - val_loss: 0.3624 - val_accuracy: 0.9016\n",
      "Epoch 10/50\n",
      "25/25 [==============================] - 0s 2ms/step - loss: 0.4236 - accuracy: 0.8471 - val_loss: 0.3468 - val_accuracy: 0.9016\n",
      "Epoch 11/50\n",
      "25/25 [==============================] - 0s 2ms/step - loss: 0.4008 - accuracy: 0.8554 - val_loss: 0.3374 - val_accuracy: 0.9016\n",
      "Epoch 12/50\n",
      "25/25 [==============================] - 0s 4ms/step - loss: 0.4087 - accuracy: 0.8471 - val_loss: 0.3236 - val_accuracy: 0.8852\n",
      "Epoch 13/50\n",
      "25/25 [==============================] - 0s 5ms/step - loss: 0.4196 - accuracy: 0.8388 - val_loss: 0.3212 - val_accuracy: 0.8852\n",
      "Epoch 14/50\n",
      "25/25 [==============================] - 0s 4ms/step - loss: 0.4140 - accuracy: 0.8512 - val_loss: 0.3266 - val_accuracy: 0.8852\n",
      "Epoch 15/50\n",
      "25/25 [==============================] - 0s 3ms/step - loss: 0.3980 - accuracy: 0.8512 - val_loss: 0.3203 - val_accuracy: 0.8852\n",
      "Epoch 16/50\n",
      "25/25 [==============================] - 0s 3ms/step - loss: 0.4188 - accuracy: 0.8430 - val_loss: 0.3220 - val_accuracy: 0.8852\n",
      "Epoch 17/50\n",
      "25/25 [==============================] - 0s 4ms/step - loss: 0.3985 - accuracy: 0.8471 - val_loss: 0.3217 - val_accuracy: 0.8852\n",
      "Epoch 18/50\n",
      "25/25 [==============================] - 0s 4ms/step - loss: 0.3709 - accuracy: 0.8595 - val_loss: 0.3214 - val_accuracy: 0.8852\n",
      "Epoch 19/50\n",
      "25/25 [==============================] - 0s 3ms/step - loss: 0.3924 - accuracy: 0.8636 - val_loss: 0.3151 - val_accuracy: 0.8852\n",
      "Epoch 20/50\n",
      "25/25 [==============================] - 0s 3ms/step - loss: 0.4077 - accuracy: 0.8388 - val_loss: 0.3194 - val_accuracy: 0.8852\n",
      "Epoch 21/50\n",
      "25/25 [==============================] - 0s 2ms/step - loss: 0.3859 - accuracy: 0.8595 - val_loss: 0.3236 - val_accuracy: 0.8852\n",
      "Epoch 22/50\n",
      "25/25 [==============================] - 0s 3ms/step - loss: 0.3747 - accuracy: 0.8595 - val_loss: 0.3222 - val_accuracy: 0.8852\n",
      "Epoch 23/50\n",
      "25/25 [==============================] - 0s 4ms/step - loss: 0.3858 - accuracy: 0.8512 - val_loss: 0.3189 - val_accuracy: 0.8852\n",
      "Epoch 24/50\n",
      "25/25 [==============================] - 0s 3ms/step - loss: 0.4068 - accuracy: 0.8595 - val_loss: 0.3195 - val_accuracy: 0.8852\n",
      "Epoch 25/50\n",
      "25/25 [==============================] - 0s 3ms/step - loss: 0.3711 - accuracy: 0.8760 - val_loss: 0.3193 - val_accuracy: 0.8852\n",
      "Epoch 26/50\n",
      "25/25 [==============================] - 0s 3ms/step - loss: 0.3476 - accuracy: 0.8678 - val_loss: 0.3204 - val_accuracy: 0.8852\n",
      "Epoch 27/50\n",
      "25/25 [==============================] - 0s 2ms/step - loss: 0.3765 - accuracy: 0.8636 - val_loss: 0.3195 - val_accuracy: 0.8852\n",
      "Epoch 28/50\n",
      "25/25 [==============================] - 0s 3ms/step - loss: 0.3554 - accuracy: 0.8595 - val_loss: 0.3192 - val_accuracy: 0.8852\n",
      "Epoch 29/50\n",
      "25/25 [==============================] - 0s 2ms/step - loss: 0.3910 - accuracy: 0.8512 - val_loss: 0.3171 - val_accuracy: 0.8852\n",
      "Epoch 30/50\n",
      "25/25 [==============================] - 0s 3ms/step - loss: 0.3678 - accuracy: 0.8636 - val_loss: 0.3169 - val_accuracy: 0.8689\n",
      "Epoch 31/50\n",
      "25/25 [==============================] - 0s 4ms/step - loss: 0.3852 - accuracy: 0.8719 - val_loss: 0.3180 - val_accuracy: 0.8689\n",
      "Epoch 32/50\n",
      "25/25 [==============================] - 0s 4ms/step - loss: 0.3836 - accuracy: 0.8678 - val_loss: 0.3169 - val_accuracy: 0.8852\n",
      "Epoch 33/50\n",
      "25/25 [==============================] - 0s 4ms/step - loss: 0.3751 - accuracy: 0.8595 - val_loss: 0.3179 - val_accuracy: 0.8852\n",
      "Epoch 34/50\n",
      "25/25 [==============================] - 0s 5ms/step - loss: 0.3967 - accuracy: 0.8471 - val_loss: 0.3165 - val_accuracy: 0.8852\n",
      "Epoch 35/50\n",
      "25/25 [==============================] - 0s 6ms/step - loss: 0.3721 - accuracy: 0.8595 - val_loss: 0.3193 - val_accuracy: 0.9016\n",
      "Epoch 36/50\n",
      "25/25 [==============================] - 0s 3ms/step - loss: 0.3831 - accuracy: 0.8595 - val_loss: 0.3200 - val_accuracy: 0.9016\n",
      "Epoch 37/50\n",
      "25/25 [==============================] - 0s 3ms/step - loss: 0.3558 - accuracy: 0.8595 - val_loss: 0.3173 - val_accuracy: 0.9016\n",
      "Epoch 38/50\n",
      "25/25 [==============================] - 0s 7ms/step - loss: 0.3435 - accuracy: 0.8636 - val_loss: 0.3160 - val_accuracy: 0.9016\n",
      "Epoch 39/50\n",
      "25/25 [==============================] - 0s 5ms/step - loss: 0.3774 - accuracy: 0.8802 - val_loss: 0.3154 - val_accuracy: 0.8852\n",
      "Epoch 40/50\n",
      "25/25 [==============================] - 0s 7ms/step - loss: 0.3729 - accuracy: 0.8554 - val_loss: 0.3181 - val_accuracy: 0.8689\n",
      "Epoch 41/50\n",
      "25/25 [==============================] - 0s 5ms/step - loss: 0.3777 - accuracy: 0.8760 - val_loss: 0.3211 - val_accuracy: 0.8689\n",
      "Epoch 42/50\n",
      "25/25 [==============================] - 0s 5ms/step - loss: 0.3636 - accuracy: 0.8678 - val_loss: 0.3238 - val_accuracy: 0.8852\n",
      "Epoch 43/50\n",
      "25/25 [==============================] - 0s 3ms/step - loss: 0.3645 - accuracy: 0.8843 - val_loss: 0.3241 - val_accuracy: 0.8852\n",
      "Epoch 44/50\n",
      "25/25 [==============================] - 0s 3ms/step - loss: 0.3480 - accuracy: 0.8719 - val_loss: 0.3210 - val_accuracy: 0.8852\n",
      "Epoch 45/50\n",
      "25/25 [==============================] - 0s 4ms/step - loss: 0.3650 - accuracy: 0.8802 - val_loss: 0.3197 - val_accuracy: 0.8852\n",
      "Epoch 46/50\n",
      "25/25 [==============================] - 0s 3ms/step - loss: 0.3592 - accuracy: 0.8760 - val_loss: 0.3187 - val_accuracy: 0.8852\n",
      "Epoch 47/50\n",
      "25/25 [==============================] - 0s 3ms/step - loss: 0.3706 - accuracy: 0.8760 - val_loss: 0.3206 - val_accuracy: 0.8689\n",
      "Epoch 48/50\n",
      "25/25 [==============================] - 0s 3ms/step - loss: 0.3529 - accuracy: 0.8678 - val_loss: 0.3236 - val_accuracy: 0.8689\n",
      "Epoch 49/50\n",
      "25/25 [==============================] - 0s 6ms/step - loss: 0.3563 - accuracy: 0.8554 - val_loss: 0.3237 - val_accuracy: 0.8689\n",
      "Epoch 50/50\n",
      "25/25 [==============================] - 0s 4ms/step - loss: 0.3547 - accuracy: 0.8719 - val_loss: 0.3235 - val_accuracy: 0.8852\n"
     ]
    }
   ],
   "source": [
    "history_2 = model_2.fit(X_train_norm,y_train,validation_data=(X_test_norm,y_test),epochs=50,batch_size=10)"
   ]
  },
  {
   "cell_type": "code",
   "execution_count": 137,
   "id": "50bf5c42",
   "metadata": {},
   "outputs": [
    {
     "data": {
      "image/png": "[encoded data removed]",
      "text/plain": [
       "<Figure size 432x288 with 1 Axes>"
      ]
     },
     "metadata": {
      "needs_background": "light"
     },
     "output_type": "display_data"
    }
   ],
   "source": [
    "# Model accuracy\n",
    "plt.plot(history_2.history['accuracy'])\n",
    "plt.plot(history_2.history['val_accuracy'])\n",
    "plt.title('Model Accuracy')\n",
    "plt.ylabel('accuracy')\n",
    "plt.xlabel('epoch')\n",
    "plt.legend(['train', 'test'])\n",
    "plt.show()"
   ]
  },
  {
   "cell_type": "code",
   "execution_count": 138,
   "id": "8ae78f66",
   "metadata": {
    "scrolled": true
   },
   "outputs": [
    {
     "data": {
      "image/png": "[encoded data removed]",
      "text/plain": [
       "<Figure size 432x288 with 1 Axes>"
      ]
     },
     "metadata": {
      "needs_background": "light"
     },
     "output_type": "display_data"
    }
   ],
   "source": [
    "# loss perfomance\n",
    "plt.plot(history_2.history['loss'])\n",
    "plt.plot(history_2.history['val_loss'])\n",
    "plt.title('Loss performance')\n",
    "plt.ylabel('loss')\n",
    "plt.xlabel('epoch')\n",
    "plt.legend(['train', 'test'])\n",
    "plt.show()"
   ]
  },
  {
   "cell_type": "markdown",
   "id": "2b4f9a9e",
   "metadata": {},
   "source": [
    "## Try more : model_3\n",
    "\n",
    "- l2 regularization (lr=0.001)\n",
    "- more units in input layer\n",
    "- activation : sigmoid\n",
    "- optimizer: Adam(lr=0.002)\n",
    "- loss function:binary_crossentropy"
   ]
  },
  {
   "cell_type": "code",
   "execution_count": 139,
   "id": "4c21b3e0",
   "metadata": {},
   "outputs": [],
   "source": [
    "model_3=Sequential()\n",
    "model_3.add(Dense(36, input_shape=(13,),kernel_initializer='normal', \n",
    "                  kernel_regularizer=regularizers.l2(0.001), activation='relu'))\n",
    "model_3.add(Dropout(0.25))\n",
    "model_3.add(Dense(10,kernel_initializer='normal', \n",
    "                  kernel_regularizer=regularizers.l2(0.001), activation='relu'))\n",
    "model_3.add(Dropout(0.25))\n",
    "model_3.add(Dense(1,activation='sigmoid'))\n",
    "model_3.compile(Adam(lr = .002),loss='binary_crossentropy',metrics=['accuracy'])"
   ]
  },
  {
   "cell_type": "code",
   "execution_count": 140,
   "id": "8e46d0bc",
   "metadata": {},
   "outputs": [
    {
     "name": "stdout",
     "output_type": "stream",
     "text": [
      "Model: \"sequential_12\"\n",
      "_________________________________________________________________\n",
      " Layer (type)                Output Shape              Param #   \n",
      "=================================================================\n",
      " dense_30 (Dense)            (None, 36)                504       \n",
      "                                                                 \n",
      " dropout_20 (Dropout)        (None, 36)                0         \n",
      "                                                                 \n",
      " dense_31 (Dense)            (None, 10)                370       \n",
      "                                                                 \n",
      " dropout_21 (Dropout)        (None, 10)                0         \n",
      "                                                                 \n",
      " dense_32 (Dense)            (None, 1)                 11        \n",
      "                                                                 \n",
      "=================================================================\n",
      "Total params: 885\n",
      "Trainable params: 885\n",
      "Non-trainable params: 0\n",
      "_________________________________________________________________\n"
     ]
    }
   ],
   "source": [
    "model_3.summary()"
   ]
  },
  {
   "cell_type": "code",
   "execution_count": 141,
   "id": "a3549008",
   "metadata": {},
   "outputs": [
    {
     "name": "stdout",
     "output_type": "stream",
     "text": [
      "Epoch 1/20\n",
      "25/25 [==============================] - 1s 8ms/step - loss: 0.6796 - accuracy: 0.6860 - val_loss: 0.6416 - val_accuracy: 0.8361\n",
      "Epoch 2/20\n",
      "25/25 [==============================] - 0s 4ms/step - loss: 0.6024 - accuracy: 0.7934 - val_loss: 0.5078 - val_accuracy: 0.8852\n",
      "Epoch 3/20\n",
      "25/25 [==============================] - 0s 4ms/step - loss: 0.4737 - accuracy: 0.8264 - val_loss: 0.3772 - val_accuracy: 0.9016\n",
      "Epoch 4/20\n",
      "25/25 [==============================] - 0s 4ms/step - loss: 0.4278 - accuracy: 0.8388 - val_loss: 0.3251 - val_accuracy: 0.9016\n",
      "Epoch 5/20\n",
      "25/25 [==============================] - 0s 4ms/step - loss: 0.4077 - accuracy: 0.8430 - val_loss: 0.3147 - val_accuracy: 0.9016\n",
      "Epoch 6/20\n",
      "25/25 [==============================] - 0s 3ms/step - loss: 0.3955 - accuracy: 0.8430 - val_loss: 0.3170 - val_accuracy: 0.9016\n",
      "Epoch 7/20\n",
      "25/25 [==============================] - 0s 3ms/step - loss: 0.3776 - accuracy: 0.8347 - val_loss: 0.3147 - val_accuracy: 0.9016\n",
      "Epoch 8/20\n",
      "25/25 [==============================] - 0s 3ms/step - loss: 0.3831 - accuracy: 0.8430 - val_loss: 0.3157 - val_accuracy: 0.8852\n",
      "Epoch 9/20\n",
      "25/25 [==============================] - 0s 4ms/step - loss: 0.3542 - accuracy: 0.8430 - val_loss: 0.3070 - val_accuracy: 0.8689\n",
      "Epoch 10/20\n",
      "25/25 [==============================] - 0s 4ms/step - loss: 0.3645 - accuracy: 0.8471 - val_loss: 0.3176 - val_accuracy: 0.8689\n",
      "Epoch 11/20\n",
      "25/25 [==============================] - 0s 3ms/step - loss: 0.3602 - accuracy: 0.8512 - val_loss: 0.3279 - val_accuracy: 0.8852\n",
      "Epoch 12/20\n",
      "25/25 [==============================] - 0s 4ms/step - loss: 0.3371 - accuracy: 0.8554 - val_loss: 0.3182 - val_accuracy: 0.8525\n",
      "Epoch 13/20\n",
      "25/25 [==============================] - 0s 5ms/step - loss: 0.3630 - accuracy: 0.8554 - val_loss: 0.3305 - val_accuracy: 0.8689\n",
      "Epoch 14/20\n",
      "25/25 [==============================] - 0s 3ms/step - loss: 0.3527 - accuracy: 0.8636 - val_loss: 0.3383 - val_accuracy: 0.8852\n",
      "Epoch 15/20\n",
      "25/25 [==============================] - 0s 3ms/step - loss: 0.3483 - accuracy: 0.8678 - val_loss: 0.3361 - val_accuracy: 0.8689\n",
      "Epoch 16/20\n",
      "25/25 [==============================] - 0s 3ms/step - loss: 0.3212 - accuracy: 0.8843 - val_loss: 0.3268 - val_accuracy: 0.8689\n",
      "Epoch 17/20\n",
      "25/25 [==============================] - 0s 4ms/step - loss: 0.3267 - accuracy: 0.8636 - val_loss: 0.3282 - val_accuracy: 0.8689\n",
      "Epoch 18/20\n",
      "25/25 [==============================] - 0s 3ms/step - loss: 0.3445 - accuracy: 0.8760 - val_loss: 0.3382 - val_accuracy: 0.8689\n",
      "Epoch 19/20\n",
      "25/25 [==============================] - 0s 5ms/step - loss: 0.3392 - accuracy: 0.8884 - val_loss: 0.3369 - val_accuracy: 0.8689\n",
      "Epoch 20/20\n",
      "25/25 [==============================] - 0s 4ms/step - loss: 0.3070 - accuracy: 0.8802 - val_loss: 0.3381 - val_accuracy: 0.8852\n"
     ]
    }
   ],
   "source": [
    "history_3 = model_3.fit(X_train_norm,y_train,validation_data=(X_test_norm,y_test),epochs=20,batch_size=10)"
   ]
  },
  {
   "cell_type": "code",
   "execution_count": 142,
   "id": "9b902c4e",
   "metadata": {},
   "outputs": [
    {
     "data": {
      "image/png": "[encoded data removed]",
      "text/plain": [
       "<Figure size 432x288 with 1 Axes>"
      ]
     },
     "metadata": {
      "needs_background": "light"
     },
     "output_type": "display_data"
    }
   ],
   "source": [
    "# Model accuracy\n",
    "plt.plot(history_3.history['accuracy'])\n",
    "plt.plot(history_3.history['val_accuracy'])\n",
    "plt.title('Model Accuracy')\n",
    "plt.ylabel('accuracy')\n",
    "plt.xlabel('epoch')\n",
    "plt.legend(['train', 'test'])\n",
    "plt.show()"
   ]
  },
  {
   "cell_type": "code",
   "execution_count": 143,
   "id": "18d76d4b",
   "metadata": {},
   "outputs": [
    {
     "data": {
      "image/png": "[encoded data removed]",
      "text/plain": [
       "<Figure size 432x288 with 1 Axes>"
      ]
     },
     "metadata": {
      "needs_background": "light"
     },
     "output_type": "display_data"
    }
   ],
   "source": [
    "# loss perfomance\n",
    "plt.plot(history_3.history['loss'])\n",
    "plt.plot(history_3.history['val_loss'])\n",
    "plt.title('Loss performance')\n",
    "plt.ylabel('loss')\n",
    "plt.xlabel('epoch')\n",
    "plt.legend(['train', 'test'])\n",
    "plt.show()"
   ]
  },
  {
   "cell_type": "markdown",
   "id": "676b608d",
   "metadata": {},
   "source": [
    "## Results and metrics"
   ]
  },
  {
   "cell_type": "markdown",
   "id": "fc5311c8",
   "metadata": {},
   "source": [
    "The accuracy results we have been seeing are for the training data, but what about the testing dataset? If our model's cannot generalize to data that wasn't used to train them, they won't provide any utility.\n",
    "\n",
    "Let's test the performance of both our categorical model and binary model. To do this, we will make predictions on the training dataset and calculate performance metrics using Sklearn."
   ]
  },
  {
   "cell_type": "markdown",
   "id": "1806fb4f",
   "metadata": {},
   "source": [
    "### Base: rf_model acc=0.85"
   ]
  },
  {
   "cell_type": "code",
   "execution_count": 144,
   "id": "82b19d61",
   "metadata": {},
   "outputs": [],
   "source": [
    "from sklearn.metrics import classification_report"
   ]
  },
  {
   "cell_type": "code",
   "execution_count": 145,
   "id": "9ffc8954",
   "metadata": {},
   "outputs": [
    {
     "name": "stdout",
     "output_type": "stream",
     "text": [
      "Results for Random forest Model\n",
      "0.8524590163934426\n",
      "              precision    recall  f1-score   support\n",
      "\n",
      "           0       0.85      0.88      0.87        33\n",
      "           1       0.85      0.82      0.84        28\n",
      "\n",
      "    accuracy                           0.85        61\n",
      "   macro avg       0.85      0.85      0.85        61\n",
      "weighted avg       0.85      0.85      0.85        61\n",
      "\n"
     ]
    }
   ],
   "source": [
    "print('Results for Random forest Model')\n",
    "print(accuracy_score(y_test, y_pred_class_rf))\n",
    "print(classification_report(y_test, y_pred_class_rf))"
   ]
  },
  {
   "cell_type": "markdown",
   "id": "acaa3d09",
   "metadata": {},
   "source": [
    "### NN Model_1 acc=0.90"
   ]
  },
  {
   "cell_type": "code",
   "execution_count": 146,
   "id": "7976933e",
   "metadata": {
    "scrolled": true
   },
   "outputs": [
    {
     "name": "stdout",
     "output_type": "stream",
     "text": [
      "Results for Categorical Model\n",
      "0.8852459016393442\n",
      "              precision    recall  f1-score   support\n",
      "\n",
      "           0       0.84      0.97      0.90        33\n",
      "           1       0.96      0.79      0.86        28\n",
      "\n",
      "    accuracy                           0.89        61\n",
      "   macro avg       0.90      0.88      0.88        61\n",
      "weighted avg       0.89      0.89      0.88        61\n",
      "\n"
     ]
    }
   ],
   "source": [
    "# generate classification report using predictions for categorical model\n",
    "\n",
    "categorical_pred = np.argmax(model_1.predict(X_test_norm), axis=1)\n",
    "\n",
    "print('Results for Categorical Model')\n",
    "print(accuracy_score(y_test, categorical_pred))\n",
    "print(classification_report(y_test, categorical_pred))"
   ]
  },
  {
   "cell_type": "markdown",
   "id": "a8b823e7",
   "metadata": {},
   "source": [
    "### NN model_2 acc=0.89"
   ]
  },
  {
   "cell_type": "code",
   "execution_count": 147,
   "id": "7026e9cd",
   "metadata": {},
   "outputs": [
    {
     "name": "stdout",
     "output_type": "stream",
     "text": [
      "Results for Binary Model\n",
      "0.8852459016393442\n",
      "              precision    recall  f1-score   support\n",
      "\n",
      "           0       0.84      0.97      0.90        33\n",
      "           1       0.96      0.79      0.86        28\n",
      "\n",
      "    accuracy                           0.89        61\n",
      "   macro avg       0.90      0.88      0.88        61\n",
      "weighted avg       0.89      0.89      0.88        61\n",
      "\n"
     ]
    }
   ],
   "source": [
    "binary_pred = np.round(model_2.predict(X_test_norm)).astype(int)\n",
    "\n",
    "print('Results for Binary Model')\n",
    "print(accuracy_score(y_test, binary_pred))\n",
    "print(classification_report(y_test, binary_pred))"
   ]
  },
  {
   "cell_type": "markdown",
   "id": "50841fed",
   "metadata": {},
   "source": [
    "### NN model_3 acc=0.89"
   ]
  },
  {
   "cell_type": "code",
   "execution_count": 148,
   "id": "35cc6071",
   "metadata": {},
   "outputs": [
    {
     "name": "stdout",
     "output_type": "stream",
     "text": [
      "Results for Binary Model_3\n",
      "0.8852459016393442\n",
      "              precision    recall  f1-score   support\n",
      "\n",
      "           0       0.86      0.94      0.90        33\n",
      "           1       0.92      0.82      0.87        28\n",
      "\n",
      "    accuracy                           0.89        61\n",
      "   macro avg       0.89      0.88      0.88        61\n",
      "weighted avg       0.89      0.89      0.88        61\n",
      "\n"
     ]
    }
   ],
   "source": [
    "model_3_pred = np.round(model_3.predict(X_test_norm)).astype(int)\n",
    "\n",
    "print('Results for Binary Model_3')\n",
    "print(accuracy_score(y_test, model_3_pred))\n",
    "print(classification_report(y_test, model_3_pred))"
   ]
  },
  {
   "cell_type": "markdown",
   "id": "0ef6fb93",
   "metadata": {},
   "source": [
    "## Summary of key findings\n",
    "\n",
    "Comparing the results of the baseline model (random forest) and three different architectures of Neural Networks, the model 1 is best, is validation accuracy is 0.9, which is fine improvements (RF acc=0.85). \n",
    "Using these parameters:\n",
    "- Dropout\n",
    "- l2 regularizers (lr=0.001)\n",
    "- activation ='softmax'\n",
    "- loss function: categorical_crossentropy\n",
    "- optimizer: rmsprop\n",
    "\n",
    "However, it is difficult to interpret the neural network and lack of explainability comparing with Random forest algorithm."
   ]
  },
  {
   "cell_type": "markdown",
   "id": "b867ae96",
   "metadata": {},
   "source": [
    "## Insights, & Suggestions in revisiting such cases\n",
    "\n",
    "1. As this dataset is pretty small (303 rows), I will try bigger, and similar datasets to demonstrate the final model, to evaluate those parameters.\n",
    "2. I expect the binary model (model_2) will be better than model_1, which is not unfortunately. I rather try more tests with different penalties, regularizers, optimizers to prevent overfitting problem.\n",
    "3. Some of attributes has lower correlationship, clustering techniques or PCA I may also try in revisiting, before tuning hyperparameters."
   ]
  },
  {
   "cell_type": "markdown",
   "id": "36b37697",
   "metadata": {},
   "source": [
    "## Follow-up experiments"
   ]
  },
  {
   "cell_type": "markdown",
   "id": "a0af9b48",
   "metadata": {},
   "source": [
    "### feature engineering with pca"
   ]
  },
  {
   "cell_type": "code",
   "execution_count": 149,
   "id": "9a2e93fc",
   "metadata": {},
   "outputs": [
    {
     "data": {
      "text/plain": [
       "564.0"
      ]
     },
     "execution_count": 149,
     "metadata": {},
     "output_type": "execute_result"
    }
   ],
   "source": [
    "X_train.astype('float32').max()"
   ]
  },
  {
   "cell_type": "code",
   "execution_count": 151,
   "id": "cf01918d",
   "metadata": {},
   "outputs": [],
   "source": [
    "x_train = X_train.astype('float32') / 564.\n",
    "x_test = X_test.astype('float32') / 564."
   ]
  },
  {
   "cell_type": "code",
   "execution_count": 152,
   "id": "38ccad8d",
   "metadata": {},
   "outputs": [
    {
     "name": "stdout",
     "output_type": "stream",
     "text": [
      "(242, 13)\n",
      "(61, 13)\n"
     ]
    }
   ],
   "source": [
    "x_train_flat = x_train.reshape((len(x_train), np.prod(x_train.shape[1:])))\n",
    "x_test_flat = x_test.reshape((len(x_test), np.prod(x_test.shape[1:])))\n",
    "print(x_train_flat.shape)\n",
    "print(x_test_flat.shape)"
   ]
  },
  {
   "cell_type": "code",
   "execution_count": 153,
   "id": "404954d7",
   "metadata": {},
   "outputs": [],
   "source": [
    "from sklearn.preprocessing import MinMaxScaler\n",
    "s = MinMaxScaler().fit(x_train_flat)\n",
    "x_train_scaled = s.transform(x_train_flat)"
   ]
  },
  {
   "cell_type": "code",
   "execution_count": 154,
   "id": "98bdd8c3",
   "metadata": {},
   "outputs": [],
   "source": [
    "from sklearn.decomposition import PCA\n",
    "\n",
    "def data_pca(x_data, n_components):\n",
    "    pca = PCA(n_components=n_components)\n",
    "\n",
    "    fit_pca = pca.fit(x_data)\n",
    "    \n",
    "    print(\"Variance explained with {0} components:\".format(n_components), \n",
    "          round(sum(fit_pca.explained_variance_ratio_), 2))\n",
    "\n",
    "    return fit_pca, fit_pca.transform(x_data)"
   ]
  },
  {
   "cell_type": "code",
   "execution_count": 155,
   "id": "fdad76bf",
   "metadata": {},
   "outputs": [
    {
     "name": "stdout",
     "output_type": "stream",
     "text": [
      "Variance explained with 13 components: 1.0\n"
     ]
    }
   ],
   "source": [
    "pca_full, data_full = data_pca(x_train_scaled, 13)"
   ]
  },
  {
   "cell_type": "code",
   "execution_count": 156,
   "id": "dcb1ece1",
   "metadata": {},
   "outputs": [
    {
     "data": {
      "image/png": "[encoded data removed]",
      "text/plain": [
       "<Figure size 432x288 with 1 Axes>"
      ]
     },
     "metadata": {
      "needs_background": "light"
     },
     "output_type": "display_data"
    }
   ],
   "source": [
    "plt.plot(np.cumsum(pca_full.explained_variance_ratio_))\n",
    "plt.title(\"Proportion of PCA variance\\nexplained by number of components\")\n",
    "plt.xlabel(\"Number of components\")\n",
    "plt.ylabel(\"Proportion of variance explained\");"
   ]
  },
  {
   "cell_type": "markdown",
   "id": "6671e837",
   "metadata": {},
   "source": [
    "We need 10 (components) features can explain 95% of the variance in this data. "
   ]
  },
  {
   "cell_type": "code",
   "execution_count": 159,
   "id": "370c7d5e",
   "metadata": {},
   "outputs": [
    {
     "data": {
      "text/html": [
       "<div>\n",
       "<style scoped>\n",
       "    .dataframe tbody tr th:only-of-type {\n",
       "        vertical-align: middle;\n",
       "    }\n",
       "\n",
       "    .dataframe tbody tr th {\n",
       "        vertical-align: top;\n",
       "    }\n",
       "\n",
       "    .dataframe thead th {\n",
       "        text-align: right;\n",
       "    }\n",
       "</style>\n",
       "<table border=\"1\" class=\"dataframe\">\n",
       "  <thead>\n",
       "    <tr style=\"text-align: right;\">\n",
       "      <th></th>\n",
       "      <th>age</th>\n",
       "      <th>sex</th>\n",
       "      <th>cp</th>\n",
       "      <th>trestbps</th>\n",
       "      <th>chol</th>\n",
       "      <th>fbs</th>\n",
       "      <th>restecg</th>\n",
       "      <th>thalach</th>\n",
       "      <th>exang</th>\n",
       "      <th>oldpeak</th>\n",
       "      <th>slope</th>\n",
       "      <th>ca</th>\n",
       "      <th>thal</th>\n",
       "      <th>num</th>\n",
       "      <th>target</th>\n",
       "    </tr>\n",
       "  </thead>\n",
       "  <tbody>\n",
       "    <tr>\n",
       "      <th>166</th>\n",
       "      <td>52</td>\n",
       "      <td>1</td>\n",
       "      <td>3</td>\n",
       "      <td>138</td>\n",
       "      <td>223</td>\n",
       "      <td>0</td>\n",
       "      <td>0</td>\n",
       "      <td>169</td>\n",
       "      <td>0</td>\n",
       "      <td>0.0</td>\n",
       "      <td>1</td>\n",
       "      <td>0</td>\n",
       "      <td>3</td>\n",
       "      <td>0</td>\n",
       "      <td>0</td>\n",
       "    </tr>\n",
       "    <tr>\n",
       "      <th>25</th>\n",
       "      <td>50</td>\n",
       "      <td>0</td>\n",
       "      <td>3</td>\n",
       "      <td>120</td>\n",
       "      <td>219</td>\n",
       "      <td>0</td>\n",
       "      <td>0</td>\n",
       "      <td>158</td>\n",
       "      <td>0</td>\n",
       "      <td>1.6</td>\n",
       "      <td>2</td>\n",
       "      <td>0</td>\n",
       "      <td>3</td>\n",
       "      <td>0</td>\n",
       "      <td>0</td>\n",
       "    </tr>\n",
       "    <tr>\n",
       "      <th>37</th>\n",
       "      <td>57</td>\n",
       "      <td>1</td>\n",
       "      <td>4</td>\n",
       "      <td>150</td>\n",
       "      <td>276</td>\n",
       "      <td>0</td>\n",
       "      <td>2</td>\n",
       "      <td>112</td>\n",
       "      <td>1</td>\n",
       "      <td>0.6</td>\n",
       "      <td>2</td>\n",
       "      <td>1</td>\n",
       "      <td>6</td>\n",
       "      <td>1</td>\n",
       "      <td>1</td>\n",
       "    </tr>\n",
       "  </tbody>\n",
       "</table>\n",
       "</div>"
      ],
      "text/plain": [
       "     age  sex  cp  trestbps  chol  fbs  restecg  thalach  exang  oldpeak  \\\n",
       "166   52    1   3       138   223    0        0      169      0      0.0   \n",
       "25    50    0   3       120   219    0        0      158      0      1.6   \n",
       "37    57    1   4       150   276    0        2      112      1      0.6   \n",
       "\n",
       "     slope  ca  thal  num  target  \n",
       "166      1   0     3    0       0  \n",
       "25       2   0     3    0       0  \n",
       "37       2   1     6    1       1  "
      ]
     },
     "execution_count": 159,
     "metadata": {},
     "output_type": "execute_result"
    }
   ],
   "source": [
    "data.sample(3)"
   ]
  },
  {
   "cell_type": "code",
   "execution_count": 167,
   "id": "ceeced34",
   "metadata": {},
   "outputs": [
    {
     "data": {
      "text/plain": [
       "fbs         0.025264\n",
       "chol        0.085164\n",
       "trestbps    0.150825\n",
       "restecg     0.169202\n",
       "age         0.223120\n",
       "sex         0.276816\n",
       "slope       0.339213\n",
       "cp          0.414446\n",
       "thalach     0.417167\n",
       "oldpeak     0.424510\n",
       "exang       0.431894\n",
       "ca          0.460033\n",
       "thal        0.512574\n",
       "num         0.830081\n",
       "target      1.000000\n",
       "Name: target, dtype: float64"
      ]
     },
     "execution_count": 167,
     "metadata": {},
     "output_type": "execute_result"
    }
   ],
   "source": [
    "abs(data.corr()['target']).sort_values(ascending=True)"
   ]
  },
  {
   "cell_type": "markdown",
   "id": "ac634e1c",
   "metadata": {},
   "source": [
    "From all features, let's try pulling out 3 features with lowest correlations from EDA 5.2 Features correlations with target:\n",
    "- trestbps(0.15)\n",
    "- chol(0.05)\n",
    "- fbs(0.02)"
   ]
  },
  {
   "cell_type": "code",
   "execution_count": 185,
   "id": "e6c1b769",
   "metadata": {},
   "outputs": [],
   "source": [
    "#select last 10 features and target as new data\n",
    "data_pro = data[['age', 'sex', 'cp', 'restecg', 'thalach',\n",
    "       'exang', 'oldpeak', 'slope', 'ca', 'thal','target']]"
   ]
  },
  {
   "cell_type": "code",
   "execution_count": 186,
   "id": "a18b7523",
   "metadata": {},
   "outputs": [],
   "source": [
    "x = data_pro.iloc[:,:-1].values\n",
    "y = data_pro.target.values"
   ]
  },
  {
   "cell_type": "code",
   "execution_count": 187,
   "id": "282f0a38",
   "metadata": {},
   "outputs": [],
   "source": [
    "x_train,x_test, y_train, y_test = train_test_split(x,\n",
    "                                                   y,stratify=y,\n",
    "                                                   random_state=100,\n",
    "                                                   test_size=0.2)"
   ]
  },
  {
   "cell_type": "markdown",
   "id": "c72b3762",
   "metadata": {},
   "source": [
    "### Try RF"
   ]
  },
  {
   "cell_type": "code",
   "execution_count": 188,
   "id": "afb20784",
   "metadata": {},
   "outputs": [
    {
     "name": "stdout",
     "output_type": "stream",
     "text": [
      "accuracy is 0.770\n"
     ]
    }
   ],
   "source": [
    "rf_model_pro = RandomForestClassifier(n_estimators=200)\n",
    "rf_model_pro.fit(x_train,y_train)\n",
    "y_pred = rf_model_pro.predict(x_test)\n",
    "print('accuracy is {:.3f}'.format(accuracy_score(y_test,y_pred)))"
   ]
  },
  {
   "cell_type": "markdown",
   "id": "24192e1f",
   "metadata": {},
   "source": [
    "Much lower than previous RF!"
   ]
  },
  {
   "cell_type": "markdown",
   "id": "481ed4ad",
   "metadata": {},
   "source": [
    "### Try Model_2's parameters (binary target)"
   ]
  },
  {
   "cell_type": "code",
   "execution_count": 189,
   "id": "e5ac5488",
   "metadata": {},
   "outputs": [],
   "source": [
    "#normalize data\n",
    "x_train_norm = normalizer.fit_transform(x_train)\n",
    "x_test_norm = normalizer.transform(x_test)"
   ]
  },
  {
   "cell_type": "code",
   "execution_count": 191,
   "id": "9e32dbbd",
   "metadata": {},
   "outputs": [],
   "source": [
    "model_2_pro=Sequential()\n",
    "model_2_pro.add(Dense(16,input_shape=(10,),kernel_initializer='normal', \n",
    "                  kernel_regularizer=regularizers.l2(0.001), activation='relu'))\n",
    "model_2_pro.add(Dropout(0.25))\n",
    "model_2_pro.add(Dense(8,kernel_initializer='normal', \n",
    "                  kernel_regularizer=regularizers.l2(0.001), activation='relu'))\n",
    "model_2_pro.add(Dropout(0.25))\n",
    "model_2_pro.add(Dense(1,activation='sigmoid'))\n",
    "model_2_pro.compile(Adam(lr = .001),loss='binary_crossentropy',metrics=['accuracy'])"
   ]
  },
  {
   "cell_type": "code",
   "execution_count": 192,
   "id": "038fbd71",
   "metadata": {},
   "outputs": [
    {
     "name": "stdout",
     "output_type": "stream",
     "text": [
      "Model: \"sequential_13\"\n",
      "_________________________________________________________________\n",
      " Layer (type)                Output Shape              Param #   \n",
      "=================================================================\n",
      " dense_33 (Dense)            (None, 16)                176       \n",
      "                                                                 \n",
      " dropout_22 (Dropout)        (None, 16)                0         \n",
      "                                                                 \n",
      " dense_34 (Dense)            (None, 8)                 136       \n",
      "                                                                 \n",
      " dropout_23 (Dropout)        (None, 8)                 0         \n",
      "                                                                 \n",
      " dense_35 (Dense)            (None, 1)                 9         \n",
      "                                                                 \n",
      "=================================================================\n",
      "Total params: 321\n",
      "Trainable params: 321\n",
      "Non-trainable params: 0\n",
      "_________________________________________________________________\n"
     ]
    }
   ],
   "source": [
    "model_2_pro.summary()"
   ]
  },
  {
   "cell_type": "code",
   "execution_count": 193,
   "id": "54e91262",
   "metadata": {},
   "outputs": [
    {
     "name": "stdout",
     "output_type": "stream",
     "text": [
      "Epoch 1/50\n",
      "25/25 [==============================] - 1s 8ms/step - loss: 0.6847 - accuracy: 0.6818 - val_loss: 0.6795 - val_accuracy: 0.7869\n",
      "Epoch 2/50\n",
      "25/25 [==============================] - 0s 3ms/step - loss: 0.6642 - accuracy: 0.7893 - val_loss: 0.6517 - val_accuracy: 0.7869\n",
      "Epoch 3/50\n",
      "25/25 [==============================] - 0s 3ms/step - loss: 0.6123 - accuracy: 0.8388 - val_loss: 0.6055 - val_accuracy: 0.7869\n",
      "Epoch 4/50\n",
      "25/25 [==============================] - 0s 7ms/step - loss: 0.5496 - accuracy: 0.8512 - val_loss: 0.5476 - val_accuracy: 0.7869\n",
      "Epoch 5/50\n",
      "25/25 [==============================] - 0s 5ms/step - loss: 0.4933 - accuracy: 0.8554 - val_loss: 0.4958 - val_accuracy: 0.7869\n",
      "Epoch 6/50\n",
      "25/25 [==============================] - 0s 3ms/step - loss: 0.4391 - accuracy: 0.8636 - val_loss: 0.4647 - val_accuracy: 0.7869\n",
      "Epoch 7/50\n",
      "25/25 [==============================] - 0s 4ms/step - loss: 0.4025 - accuracy: 0.8595 - val_loss: 0.4498 - val_accuracy: 0.7869\n",
      "Epoch 8/50\n",
      "25/25 [==============================] - 0s 5ms/step - loss: 0.3822 - accuracy: 0.8554 - val_loss: 0.4456 - val_accuracy: 0.7869\n",
      "Epoch 9/50\n",
      "25/25 [==============================] - 0s 4ms/step - loss: 0.3723 - accuracy: 0.8760 - val_loss: 0.4447 - val_accuracy: 0.8033\n",
      "Epoch 10/50\n",
      "25/25 [==============================] - 0s 3ms/step - loss: 0.3793 - accuracy: 0.8636 - val_loss: 0.4427 - val_accuracy: 0.7869\n",
      "Epoch 11/50\n",
      "25/25 [==============================] - 0s 3ms/step - loss: 0.3659 - accuracy: 0.8678 - val_loss: 0.4413 - val_accuracy: 0.8033\n",
      "Epoch 12/50\n",
      "25/25 [==============================] - 0s 8ms/step - loss: 0.3688 - accuracy: 0.8719 - val_loss: 0.4446 - val_accuracy: 0.8033\n",
      "Epoch 13/50\n",
      "25/25 [==============================] - 0s 3ms/step - loss: 0.3735 - accuracy: 0.8595 - val_loss: 0.4459 - val_accuracy: 0.8033\n",
      "Epoch 14/50\n",
      "25/25 [==============================] - 0s 3ms/step - loss: 0.3481 - accuracy: 0.8636 - val_loss: 0.4476 - val_accuracy: 0.8033\n",
      "Epoch 15/50\n",
      "25/25 [==============================] - 0s 6ms/step - loss: 0.3540 - accuracy: 0.8595 - val_loss: 0.4492 - val_accuracy: 0.8033\n",
      "Epoch 16/50\n",
      "25/25 [==============================] - 0s 7ms/step - loss: 0.3619 - accuracy: 0.8636 - val_loss: 0.4522 - val_accuracy: 0.7869\n",
      "Epoch 17/50\n",
      "25/25 [==============================] - 0s 3ms/step - loss: 0.3551 - accuracy: 0.8595 - val_loss: 0.4529 - val_accuracy: 0.8033\n",
      "Epoch 18/50\n",
      "25/25 [==============================] - 0s 3ms/step - loss: 0.3669 - accuracy: 0.8636 - val_loss: 0.4519 - val_accuracy: 0.7869\n",
      "Epoch 19/50\n",
      "25/25 [==============================] - 0s 6ms/step - loss: 0.3622 - accuracy: 0.8719 - val_loss: 0.4527 - val_accuracy: 0.7869\n",
      "Epoch 20/50\n",
      "25/25 [==============================] - 0s 6ms/step - loss: 0.3547 - accuracy: 0.8719 - val_loss: 0.4542 - val_accuracy: 0.7705\n",
      "Epoch 21/50\n",
      "25/25 [==============================] - 0s 4ms/step - loss: 0.3482 - accuracy: 0.8760 - val_loss: 0.4616 - val_accuracy: 0.7869\n",
      "Epoch 22/50\n",
      "25/25 [==============================] - 0s 5ms/step - loss: 0.3787 - accuracy: 0.8595 - val_loss: 0.4617 - val_accuracy: 0.7869\n",
      "Epoch 23/50\n",
      "25/25 [==============================] - 0s 4ms/step - loss: 0.3564 - accuracy: 0.8595 - val_loss: 0.4584 - val_accuracy: 0.7869\n",
      "Epoch 24/50\n",
      "25/25 [==============================] - 0s 4ms/step - loss: 0.3729 - accuracy: 0.8554 - val_loss: 0.4564 - val_accuracy: 0.7869\n",
      "Epoch 25/50\n",
      "25/25 [==============================] - 0s 5ms/step - loss: 0.3548 - accuracy: 0.8636 - val_loss: 0.4555 - val_accuracy: 0.7869\n",
      "Epoch 26/50\n",
      "25/25 [==============================] - 0s 2ms/step - loss: 0.3403 - accuracy: 0.8636 - val_loss: 0.4538 - val_accuracy: 0.8197\n",
      "Epoch 27/50\n",
      "25/25 [==============================] - 0s 4ms/step - loss: 0.3467 - accuracy: 0.8678 - val_loss: 0.4559 - val_accuracy: 0.8033\n",
      "Epoch 28/50\n",
      "25/25 [==============================] - 0s 5ms/step - loss: 0.3709 - accuracy: 0.8678 - val_loss: 0.4592 - val_accuracy: 0.7705\n",
      "Epoch 29/50\n",
      "25/25 [==============================] - 0s 4ms/step - loss: 0.3438 - accuracy: 0.8678 - val_loss: 0.4564 - val_accuracy: 0.7705\n",
      "Epoch 30/50\n",
      "25/25 [==============================] - 0s 4ms/step - loss: 0.3631 - accuracy: 0.8760 - val_loss: 0.4596 - val_accuracy: 0.7705\n",
      "Epoch 31/50\n",
      "25/25 [==============================] - 0s 5ms/step - loss: 0.3656 - accuracy: 0.8678 - val_loss: 0.4605 - val_accuracy: 0.7705\n",
      "Epoch 32/50\n",
      "25/25 [==============================] - 0s 6ms/step - loss: 0.3335 - accuracy: 0.8636 - val_loss: 0.4605 - val_accuracy: 0.7705\n",
      "Epoch 33/50\n",
      "25/25 [==============================] - 0s 5ms/step - loss: 0.3410 - accuracy: 0.8802 - val_loss: 0.4597 - val_accuracy: 0.7705\n",
      "Epoch 34/50\n",
      "25/25 [==============================] - 0s 6ms/step - loss: 0.3195 - accuracy: 0.8843 - val_loss: 0.4605 - val_accuracy: 0.7705\n",
      "Epoch 35/50\n",
      "25/25 [==============================] - 0s 6ms/step - loss: 0.3437 - accuracy: 0.8843 - val_loss: 0.4595 - val_accuracy: 0.7705\n",
      "Epoch 36/50\n",
      "25/25 [==============================] - 0s 4ms/step - loss: 0.3419 - accuracy: 0.8636 - val_loss: 0.4613 - val_accuracy: 0.7705\n",
      "Epoch 37/50\n",
      "25/25 [==============================] - 0s 4ms/step - loss: 0.3648 - accuracy: 0.8719 - val_loss: 0.4593 - val_accuracy: 0.7705\n",
      "Epoch 38/50\n",
      "25/25 [==============================] - 0s 3ms/step - loss: 0.3409 - accuracy: 0.8926 - val_loss: 0.4598 - val_accuracy: 0.7705\n",
      "Epoch 39/50\n",
      "25/25 [==============================] - 0s 4ms/step - loss: 0.3161 - accuracy: 0.9008 - val_loss: 0.4605 - val_accuracy: 0.7869\n",
      "Epoch 40/50\n",
      "25/25 [==============================] - 0s 3ms/step - loss: 0.3451 - accuracy: 0.8760 - val_loss: 0.4602 - val_accuracy: 0.8033\n",
      "Epoch 41/50\n",
      "25/25 [==============================] - 0s 3ms/step - loss: 0.3600 - accuracy: 0.8636 - val_loss: 0.4573 - val_accuracy: 0.8033\n",
      "Epoch 42/50\n",
      "25/25 [==============================] - 0s 2ms/step - loss: 0.3565 - accuracy: 0.8636 - val_loss: 0.4587 - val_accuracy: 0.8033\n",
      "Epoch 43/50\n",
      "25/25 [==============================] - 0s 3ms/step - loss: 0.3247 - accuracy: 0.8843 - val_loss: 0.4599 - val_accuracy: 0.8033\n",
      "Epoch 44/50\n",
      "25/25 [==============================] - 0s 3ms/step - loss: 0.3458 - accuracy: 0.8760 - val_loss: 0.4620 - val_accuracy: 0.8033\n",
      "Epoch 45/50\n",
      "25/25 [==============================] - 0s 4ms/step - loss: 0.3293 - accuracy: 0.8678 - val_loss: 0.4628 - val_accuracy: 0.8197\n",
      "Epoch 46/50\n",
      "25/25 [==============================] - 0s 3ms/step - loss: 0.3308 - accuracy: 0.8802 - val_loss: 0.4634 - val_accuracy: 0.8033\n",
      "Epoch 47/50\n",
      "25/25 [==============================] - 0s 3ms/step - loss: 0.3584 - accuracy: 0.8802 - val_loss: 0.4601 - val_accuracy: 0.8033\n",
      "Epoch 48/50\n",
      "25/25 [==============================] - 0s 3ms/step - loss: 0.3372 - accuracy: 0.8760 - val_loss: 0.4603 - val_accuracy: 0.8197\n",
      "Epoch 49/50\n",
      "25/25 [==============================] - 0s 4ms/step - loss: 0.3184 - accuracy: 0.8802 - val_loss: 0.4634 - val_accuracy: 0.7869\n",
      "Epoch 50/50\n",
      "25/25 [==============================] - 0s 3ms/step - loss: 0.3400 - accuracy: 0.8802 - val_loss: 0.4630 - val_accuracy: 0.7869\n"
     ]
    }
   ],
   "source": [
    "history_2_pro = model_2_pro.fit(x_train_norm,y_train,\n",
    "                            validation_data=(x_test_norm,y_test),\n",
    "                            epochs=50,batch_size=10)"
   ]
  },
  {
   "cell_type": "code",
   "execution_count": 194,
   "id": "42cfcb77",
   "metadata": {},
   "outputs": [
    {
     "data": {
      "image/png": "[encoded data removed]",
      "text/plain": [
       "<Figure size 432x288 with 1 Axes>"
      ]
     },
     "metadata": {
      "needs_background": "light"
     },
     "output_type": "display_data"
    }
   ],
   "source": [
    "# Model accuracy\n",
    "plt.plot(history_2_pro.history['accuracy'])\n",
    "plt.plot(history_2_pro.history['val_accuracy'])\n",
    "plt.title('Model Accuracy')\n",
    "plt.ylabel('accuracy')\n",
    "plt.xlabel('epoch')\n",
    "plt.legend(['train', 'test'])\n",
    "plt.show()"
   ]
  },
  {
   "cell_type": "markdown",
   "id": "7b8fb10a",
   "metadata": {},
   "source": [
    "### Conclusion:\n",
    "\n",
    "- Val_accurary is even much lower than previous model_2. \n",
    "- Simpily removal of 3 lower correlatd features will not helpful for accuracy improvements."
   ]
  },
  {
   "cell_type": "code",
   "execution_count": null,
   "id": "cd19d7be",
   "metadata": {},
   "outputs": [],
   "source": []
  }
 ],
 "metadata": {
  "kernelspec": {
   "display_name": "Python 3",
   "language": "python",
   "name": "python3"
  },
  "language_info": {
   "codemirror_mode": {
    "name": "ipython",
    "version": 3
   },
   "file_extension": ".py",
   "mimetype": "text/x-python",
   "name": "python",
   "nbconvert_exporter": "python",
   "pygments_lexer": "ipython3",
   "version": "3.8.8"
  },
  "toc": {
   "base_numbering": 1,
   "nav_menu": {},
   "number_sections": true,
   "sideBar": true,
   "skip_h1_title": false,
   "title_cell": "Table of Contents",
   "title_sidebar": "Contents",
   "toc_cell": false,
   "toc_position": {
    "height": "calc(100% - 180px)",
    "left": "10px",
    "top": "150px",
    "width": "270px"
   },
   "toc_section_display": true,
   "toc_window_display": true
  }
 },
 "nbformat": 4,
 "nbformat_minor": 5
}
